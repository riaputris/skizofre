{
  "cells": [
    {
      "cell_type": "code",
      "execution_count": 1,
      "metadata": {
        "id": "UbMGH0ODrV0x"
      },
      "outputs": [],
      "source": [
        "# Modelling\n",
        "from sklearn.ensemble import RandomForestClassifier\n",
        "from sklearn.metrics import accuracy_score, confusion_matrix, precision_score, recall_score, ConfusionMatrixDisplay\n",
        "from sklearn.model_selection import RandomizedSearchCV, train_test_split\n",
        "from sklearn.datasets import make_classification\n",
        "import matplotlib.pyplot as plt\n",
        "import pandas as pd\n",
        "\n",
        "#Memangil dataset  dalam bentuk xls\n",
        "\n",
        "data= pd.read_excel('/content/datasetskizofrenia.xlsx')"
      ]
    },
    {
      "cell_type": "code",
      "execution_count": 2,
      "metadata": {
        "colab": {
          "base_uri": "https://localhost:8080/"
        },
        "id": "XPZ3xTz_rV00",
        "outputId": "fdb65306-ec5c-41c2-8560-a5bf9b0e7198"
      },
      "outputs": [
        {
          "output_type": "stream",
          "name": "stdout",
          "text": [
            "<class 'pandas.core.frame.DataFrame'>\n",
            "RangeIndex: 240 entries, 0 to 239\n",
            "Data columns (total 57 columns):\n",
            " #   Column                                                            Non-Null Count  Dtype \n",
            "---  ------                                                            --------------  ----- \n",
            " 0   G1_PEMBULIAN                                                      240 non-null    int64 \n",
            " 1   G3_FRUSTASI_SULIT_KERJA                                           240 non-null    int64 \n",
            " 2   G4_PERASAAN_KECEWA                                                240 non-null    int64 \n",
            " 3   G11_PERASAAN_KHAWATIR                                             240 non-null    int64 \n",
            " 4   G15_KELUYURAN                                                     240 non-null    int64 \n",
            " 5   G16_MERUSAK BARANG_MEMECAH                                        240 non-null    int64 \n",
            " 6   G17_MEMBERONTAK                                                   240 non-null    int64 \n",
            " 7   G18_MARAHMARAH                                                    240 non-null    int64 \n",
            " 8   G19_TIDAK_BERAKTIFITAS                                            240 non-null    int64 \n",
            " 9   G20_SEDIH_MENANGIS                                                240 non-null    int64 \n",
            " 10  G21_SEDIKIT_BICARA                                                240 non-null    int64 \n",
            " 11  G23_TERGANGGU                                                     240 non-null    int64 \n",
            " 12  G25_MELAMUN                                                       240 non-null    int64 \n",
            " 13  G26_MEMUKUL_ORANGLAIN                                             240 non-null    int64 \n",
            " 14  G28_MELAKUKAN_TERIAK                                              240 non-null    int64 \n",
            " 15  G30_PUTUSASA                                                      240 non-null    int64 \n",
            " 16  G31_CEMAS                                                         240 non-null    int64 \n",
            " 17  G35_MENGURUNG                                                     240 non-null    int64 \n",
            " 18  G36 _MONDAR-MANDIR                                                240 non-null    int64 \n",
            " 19  G37_KEINGINAN KERJA_KULIAH                                        240 non-null    int64 \n",
            " 20  G38 _MELUKAI DIRISENDIRI                                          240 non-null    int64 \n",
            " 21  G43_KEINGINAN_BUNUH_DIRI                                          240 non-null    int64 \n",
            " 22  G44_PERCOBAAN_BUNDIR                                              240 non-null    int64 \n",
            " 23  G45_BERBICARA_SENDIRI                                             240 non-null    int64 \n",
            " 24  G46_TERTAWA_SENDIRI                                               240 non-null    int64 \n",
            " 25  G47_SULIT_MAKAN                                                   240 non-null    int64 \n",
            " 26  G48_TIDAK_BERSOSIALISASI                                          240 non-null    int64 \n",
            " 27  G49_KEPIKIRAN_SESUATU                                             240 non-null    int64 \n",
            " 28  G50_DIAM_SAAT_PEMERIKSAAN                                         240 non-null    int64 \n",
            " 29  G51_PIKIRAN_KACAU                                                 240 non-null    int64 \n",
            " 30  G52_TIDAK_BERSEMANGAT                                             240 non-null    int64 \n",
            " 31  G53_PERASAAN_BINGUNG                                              240 non-null    int64 \n",
            " 32  G55_MENGALAMI_PERMASALAHAN_SEBELUMNYA                             240 non-null    int64 \n",
            " 33  G56_MENGALAMI_PERSELISIHAN                                        240 non-null    int64 \n",
            " 34  G57_PERASAANLELAH                                                 240 non-null    int64 \n",
            " 35  G59_KETAKUTAN                                                     240 non-null    int64 \n",
            " 36  G61_BICARAKACAU__MELANTUR                                         240 non-null    int64 \n",
            " 37  G62_KELUAR_RUMAH                                                  240 non-null    int64 \n",
            " 38  G63_HALUSINASI_VISUAL                                             240 non-null    int64 \n",
            " 39  G65_HALUSINASI_DIANCAM                                            240 non-null    int64 \n",
            " 40  G66_HALUSINASI_AUDITORIK_MENDENGAR_SESUATU                        240 non-null    int64 \n",
            " 41  G71_DIAWASI                                                       240 non-null    int64 \n",
            " 42  G72_PERASAAN_KESAL                                                240 non-null    int64 \n",
            " 43  G73_KETAKUTAN_DIIKUTI_HALGHAIB                                    240 non-null    int64 \n",
            " 44  G74_WAHAM_REFERENSI_MERASA_DIBICARAKAN                            240 non-null    int64 \n",
            " 45  G75_WAHAM_BERSALAH                                                240 non-null    int64 \n",
            " 46  G76_WAHAM_PERSEKUTORIK_MERASA_DIJAHATI                            240 non-null    int64 \n",
            " 47  G78_WAHAM_KEBESARAN                                               240 non-null    int64 \n",
            " 48  G80_WAHAM_MAGIC_MISTIK                                            240 non-null    int64 \n",
            " 49  G83_MERASA_SESEORANG_BERKATA_JELEK                                240 non-null    int64 \n",
            " 50  G84_MERASA_ADA_BAYANG-BAYANG                                      240 non-null    int64 \n",
            " 51  G87_MENUDUH_SESEORANG_BERBUAT_JAHAT                               240 non-null    int64 \n",
            " 52  G88_DELUSI_BADAN_MERASA_DIKENDALIKAN_DARI_LUAR                    240 non-null    int64 \n",
            " 53  G89_THOUGHT_BROADCASTING_MENGAKU_SESEORANG_DAPAT_MEMBACA_PIKIRAN  240 non-null    int64 \n",
            " 54  G90_THOUGHT_ECHO                                                  240 non-null    int64 \n",
            " 55  G94_CURIGA_BERLEBIHAN                                             240 non-null    int64 \n",
            " 56  Diagnos_encoding_mapping                                          240 non-null    object\n",
            "dtypes: int64(56), object(1)\n",
            "memory usage: 107.0+ KB\n"
          ]
        }
      ],
      "source": [
        "data.info()"
      ]
    },
    {
      "cell_type": "code",
      "execution_count": 4,
      "metadata": {
        "colab": {
          "base_uri": "https://localhost:8080/"
        },
        "id": "-kHo5Q0orV01",
        "outputId": "04006eb3-240f-44d0-948f-2d666d79aa2b"
      },
      "outputs": [
        {
          "output_type": "stream",
          "name": "stdout",
          "text": [
            "Jumlah sampel sebelum oversampling: 240\n",
            "Jumlah sampel setelah oversampling: 280\n"
          ]
        }
      ],
      "source": [
        "from imblearn.over_sampling import SMOTE\n",
        "import pandas as pd\n",
        "\n",
        "#pisahkan fitur dan target\n",
        "X = data.drop(columns=['Diagnos_encoding_mapping'], axis=1)\n",
        "y = data['Diagnos_encoding_mapping']\n",
        "from sklearn.model_selection import train_test_split\n",
        "\n",
        "X_train, X_test, y_train, y_test = train_test_split(X,y, test_size =0.2, random_state=0)\n",
        "#inisialisasi SMOTE\n",
        "smote = SMOTE (random_state=42)\n",
        "\n",
        "#oversampling menggunakan SMOTE\n",
        "X_resampled, y_resampled = smote.fit_resample(X, y)\n",
        "\n",
        "#cek jumlah sampel setelah oversampling\n",
        "print(\"Jumlah sampel sebelum oversampling:\", len(X))\n",
        "print(\"Jumlah sampel setelah oversampling:\",len(X_resampled))\n",
        "\n",
        "#balikan ke dalam DataFrame\n",
        "resampled_data = pd.concat([pd.DataFrame(X_resampled, columns=X.columns), pd.DataFrame(y_resampled, columns=['Diagnos_encoding_mapping'])], axis=1)\n",
        "resampled_data.to_excel('skizofrenia.xlsx', index=False)"
      ]
    },
    {
      "cell_type": "code",
      "execution_count": 5,
      "metadata": {
        "colab": {
          "base_uri": "https://localhost:8080/"
        },
        "id": "-7nM9xTKrV02",
        "outputId": "cc95ebcf-f8ec-4ed4-f760-5ba8908c60f2"
      },
      "outputs": [
        {
          "output_type": "stream",
          "name": "stdout",
          "text": [
            "0.8958333333333334\n",
            "Skor akurat data testing 0.90\n",
            "Score data training :1.00\n",
            "Score data testing :0.90\n"
          ]
        }
      ],
      "source": [
        "from sklearn.ensemble import RandomForestClassifier\n",
        "import seaborn as sns\n",
        "rfc = RandomForestClassifier()\n",
        "rfc.fit(X_train, y_train)\n",
        "print(rfc.score(X_test, y_test))\n",
        "y_pred = rfc.predict(X_test)\n",
        "print ('Skor akurat data testing {0:0.2f}'.format(accuracy_score(y_test, y_pred)))\n",
        "y_pred_train = rfc.predict(X_train)\n",
        "y_pred_train\n",
        "print ('Score data training :{:.2f}'.format(rfc.score(X_train, y_train)))\n",
        "print ('Score data testing :{:.2f}'.format(rfc.score(X_test, y_test)))"
      ]
    },
    {
      "cell_type": "code",
      "execution_count": 6,
      "metadata": {
        "colab": {
          "base_uri": "https://localhost:8080/",
          "height": 672
        },
        "id": "7p4BK7ZGrV02",
        "outputId": "e934308a-69c3-4455-9279-054844eb51cb"
      },
      "outputs": [
        {
          "output_type": "display_data",
          "data": {
            "text/plain": [
              "<Figure size 640x480 with 2 Axes>"
            ],
            "image/png": "[encoded data removed]"
          },
          "metadata": {}
        },
        {
          "output_type": "stream",
          "name": "stdout",
          "text": [
            "                                                   precision    recall  f1-score   support\n",
            "\n",
            "                                         Paranoid       1.00      0.88      0.93        16\n",
            "Severe depressive episode with psychotic symptoms       1.00      1.00      1.00         5\n",
            "         Shizoaffective disorder, depressive type       0.80      0.92      0.86        13\n",
            "                                 Undifferentiated       0.86      0.86      0.86        14\n",
            "\n",
            "                                         accuracy                           0.90        48\n",
            "                                        macro avg       0.91      0.91      0.91        48\n",
            "                                     weighted avg       0.90      0.90      0.90        48\n",
            "\n"
          ]
        }
      ],
      "source": [
        "from sklearn.metrics import confusion_matrix\n",
        "cn = confusion_matrix(y_test, y_pred)\n",
        "sns.heatmap (cn, annot=True)\n",
        "plt.title(\"Confusion Matrix for Random Forest\")\n",
        "plt.xlabel(\"Predicted\")\n",
        "plt.ylabel(\"Actual\")\n",
        "plt.show()\n",
        "from sklearn.metrics import classification_report\n",
        "print(classification_report(y_test, y_pred))"
      ]
    },
    {
      "cell_type": "code",
      "execution_count": 8,
      "metadata": {
        "colab": {
          "base_uri": "https://localhost:8080/"
        },
        "id": "JJA2WJLUrV02",
        "outputId": "81cb08ad-669d-489b-fe4f-5741ae430c15"
      },
      "outputs": [
        {
          "output_type": "execute_result",
          "data": {
            "text/plain": [
              "['model.pkl']"
            ]
          },
          "metadata": {},
          "execution_count": 8
        }
      ],
      "source": [
        "import joblib\n",
        "# Misalnya model Random Forest kamu bernama 'rf_model'\n",
        "joblib.dump(rfc, 'model.pkl')"
      ]
    },
    {
      "cell_type": "code",
      "source": [],
      "metadata": {
        "id": "rng_DiGduYpP"
      },
      "execution_count": null,
      "outputs": []
    }
  ],
  "metadata": {
    "kernelspec": {
      "display_name": "base",
      "language": "python",
      "name": "python3"
    },
    "language_info": {
      "codemirror_mode": {
        "name": "ipython",
        "version": 3
      },
      "file_extension": ".py",
      "mimetype": "text/x-python",
      "name": "python",
      "nbconvert_exporter": "python",
      "pygments_lexer": "ipython3",
      "version": "3.11.4"
    },
    "colab": {
      "provenance": []
    }
  },
  "nbformat": 4,
  "nbformat_minor": 0
}